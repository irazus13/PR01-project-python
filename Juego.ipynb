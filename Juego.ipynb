{
 "cells": [
  {
   "cell_type": "markdown",
   "id": "dac6bb73",
   "metadata": {},
   "source": [
    "# Importamos modulos necesarios"
   ]
  },
  {
   "cell_type": "code",
   "execution_count": 1,
   "id": "02014c42",
   "metadata": {
    "ExecuteTime": {
     "end_time": "2021-10-23T07:23:08.138885Z",
     "start_time": "2021-10-23T07:23:08.121795Z"
    }
   },
   "outputs": [],
   "source": [
    "#Primero importamos todas las bibliotecas necesarias\n",
    "import random\n",
    "import colorama\n",
    "from colorama import Fore\n",
    "from colorama import Style"
   ]
  },
  {
   "cell_type": "markdown",
   "id": "fcf94050",
   "metadata": {},
   "source": [
    "# Creamos la clase juego y las definiciones"
   ]
  },
  {
   "cell_type": "code",
   "execution_count": 16,
   "id": "1a5698a8",
   "metadata": {
    "ExecuteTime": {
     "end_time": "2021-10-23T07:49:44.581854Z",
     "start_time": "2021-10-23T07:49:44.547689Z"
    },
    "code_folding": [
     112,
     114,
     116,
     120,
     122,
     124,
     128,
     130,
     132,
     136,
     138,
     140
    ]
   },
   "outputs": [],
   "source": [
    "class Juego:\n",
    "    \n",
    "    def __init__(self,nombre=None):\n",
    "        self.nombre=input(\"Introduce tu nombre para empezar a jugar: \")\n",
    "                   \n",
    "        #Creamos la lista de colores que vamos a utilizar en el juego    \n",
    "        self.colores=['Rojo', 'Azul', 'Amarillo', 'Marron', 'Verde', 'Celeste', 'Blanco', 'Negro']\n",
    "        \n",
    "        #Imprimimos una presentacion y la funcion de inicio del juego\n",
    "        print (f\"Bienvenido {self.nombre} a MASTERMIND, tendras que elegir cuatro colores y colocarlos en la posicion correcta. Crees que serás capaz? Primero elegiras el nivel y luego las oportunidades que quieres para intentar ganar... Te recomendamos antes de empezar leerte bien la seccion 'Dudas' Buena suerte!\")\n",
    "        \n",
    "        \n",
    "    #menu basico de opciones    \n",
    "    def opciones(self):\n",
    "            print('''\n",
    "            ---------------------------------------------\n",
    "            Para empezar a jugar: Jugar\n",
    "            Si tienes dudas sobre como se juega: Dudas\n",
    "            Si quieres saber cuales son los colores: Colores\n",
    "            Si quieres salir: Salir\n",
    "            ----------------------------------------------''')\n",
    "            siguiente=input(\"Que quieres hacer? \").title()\n",
    "            \n",
    "                #Comprobamos que el comando introducido es correcto \n",
    "            if siguiente==\"Salir\":\n",
    "                print(\"Hasta la proxima!\")\n",
    "                \n",
    "            elif siguiente==\"Jugar\":\n",
    "                self.jugador()\n",
    "            elif siguiente==\"Dudas\":\n",
    "                print('''\n",
    "                    Se trata de adivinar un codigo secreto oculto!\n",
    "                    Tienes que adivinar la combinacion de colores correcta.\n",
    "                    Primero elige el nivel entre facil (jugaras con 4 colores), medio (jugaras con 6 colores) o dificil (jugaras con 8 colores)\n",
    "                    Los colores se pueden repetir, cuando aciertes uno de las posiciones la respuesta de la maquina sera una X,\n",
    "                    si aciertas un color pero no esta en posicion correcta sera un O, si el color no esta se imprime un /.\n",
    "                        -Es decir si aciertas los cuatro colores en su posicion la respuesta sera: XXXX\n",
    "                        - Si aciertas los colores pero ninguno en su posicion la respuesta sera: OOOO\n",
    "                        - Si no aciertas ningun color la respuesta sera: ////\n",
    "                        - Si aciertas dos colores en su posicion y dos colores en posicion incorrecta: XX00\n",
    "                        - Si aciertas un color en su posicion, un color pero no en su posicion y los otros dos colores no estan: XO//\n",
    "                    La respuesta sera devuelta totalmente ALEATORIA, es decir la X, la O o la /, estara desordenadas,\n",
    "                    NO TIENES QUE TENER EN CUENTA LA POSICION DE LA RESPUESTA\n",
    "                    ''')\n",
    "                self.opciones()\n",
    "            elif siguiente==\"Colores\":\n",
    "                self.ejemplo_colores()\n",
    "                self.opciones()\n",
    "            else:\n",
    "                print(\"Comando introducido no es correcto, intentalo de nuevo\")\n",
    "                self.opciones()\n",
    "            \n",
    "                \n",
    "        \n",
    "    #ejemplo de colores coloerados, solo me funciona en jupiter!\n",
    "    def ejemplo_colores(self):\n",
    "        print(f\"Los colores disponibles son: \")\n",
    "        print(Fore.BLUE + Style.BRIGHT + \"Azul\" + Style.RESET_ALL)\n",
    "        print(Fore.RED + Style.BRIGHT + \"Rojo\" + Style.RESET_ALL)\n",
    "        print(Fore.YELLOW + Style.BRIGHT + \"Amarillo\" + Style.RESET_ALL)\n",
    "        print(Fore.MAGENTA + Style.BRIGHT + \"Marron\" + Style.RESET_ALL)\n",
    "        print(Fore.GREEN + Style.BRIGHT + \"Verde\" + Style.RESET_ALL)\n",
    "        print(Fore.CYAN + Style.BRIGHT + \"Celeste\" + Style.RESET_ALL)\n",
    "        print(Fore.WHITE + Style.BRIGHT + \"Blanco\" + Style.RESET_ALL)\n",
    "        print(Fore.BLACK + Style.BRIGHT + \"Negro\" + Style.RESET_ALL)\n",
    "          \n",
    "    \n",
    "        \n",
    "    #Vamos con la seleccion aleatoria de las cuatro bolas entre los 8 colores diferentes y elige el nivel\n",
    "    def seleccion_bolas(self):\n",
    "        #para la seleccion aleatoria de los colores y su posicion\n",
    "        self.colores=['Rojo', 'Azul', 'Amarillo', 'Marron', 'Verde', 'Celeste', 'Blanco', 'Negro']\n",
    "        #seleccion nivel\n",
    "        nivel=int(input(\"Elige nivel entre 1 (facil), 2(medio), 3(dificil)\"))\n",
    "        if nivel==1:\n",
    "            self.seleccion=random.choices(self.colores[0:4],k=4)\n",
    "            print(f'Juegas con los colores: {self.colores[0:4]}' )\n",
    "        elif nivel==2:\n",
    "            self.seleccion=random.choices(self.colores[0:6],k=4)\n",
    "            print(f'Juegas con los colores: {self.colores[0:6]}' )\n",
    "        elif nivel==3:\n",
    "            self.seleccion=random.choices(self.colores[0:8],k=4)\n",
    "            print(f'Juegas con los colores: {self.colores[0:8]}' )\n",
    "        return self.seleccion\n",
    "        \n",
    "       \n",
    "    #creamos la funcion de pedir los colores e identificar si estan en el sitio correcto\n",
    "    def jugador(self):\n",
    "        seleccion=self.seleccion_bolas()\n",
    "        \n",
    "        #codigo para comprobaciones, se imprimen los colores en orden, lo dejo desseleccionado para jugar\n",
    "        'print(seleccion)'\n",
    "        \n",
    "        #Comprobar que las oportunidades sea un numero:\n",
    "        try:\n",
    "            self.oportunidades=int(input(\"Introduce el numero de partidas que quieres jugar: (Lo establecido son 15) \"))\n",
    "        except ValueError:\n",
    "            print(\"No has introducido un numero!\")\n",
    "            self.oportunidades=int(input(\"Introduce UN NUMERO de partidas que quieres jugar:  \"))\n",
    "        \n",
    "        #Comienza el juego con las oportunidades que has marcado\n",
    "        while self.oportunidades>0:\n",
    "            #ahora vamos a comprobar que coincida el color, cambiamos la respuesta para que la primera letra sea mayuscula\n",
    "            primer_numero=input(\"Introduce el primer color: \").title()\n",
    "            segundo_numero=input(\"Introduce el segundo color: \").title()\n",
    "            tercer_numero=input(\"Introduce el tercer color: \").title()\n",
    "            cuarto_numero=input(\"Introduce el cuarto color: \").title()\n",
    "            \n",
    "            #creo una lista para imprimir el resultado\n",
    "            self.resultado=[]       \n",
    "            \n",
    "            #condiciones del primer numero            \n",
    "            if primer_numero==seleccion[0]:\n",
    "                a=\"X\"                \n",
    "            elif primer_numero in seleccion:\n",
    "                    a=\"O\"                    \n",
    "            elif primer_numero not in seleccion:\n",
    "                    a=\"/\"\n",
    "                    \n",
    "            #condiciones del segundo numero            \n",
    "            if segundo_numero==seleccion[1]:\n",
    "                    b=\"X\"\n",
    "            elif segundo_numero in seleccion:\n",
    "                    b=\"O\"\n",
    "            elif segundo_numero not in seleccion:\n",
    "                    b=\"/\"\n",
    "            \n",
    "            #condiciones del tercer numero            \n",
    "            if tercer_numero==seleccion[2]:\n",
    "                c=\"X\"\n",
    "            elif tercer_numero in seleccion:\n",
    "                c=(\"O\")\n",
    "            elif tercer_numero not in seleccion:\n",
    "                c=(\"/\")\n",
    "                \n",
    "            #condicones del cuarto numero:\n",
    "            if cuarto_numero==seleccion[3]:\n",
    "                d=(\"X\")\n",
    "            elif cuarto_numero in seleccion:\n",
    "                d=(\"O\")\n",
    "            elif cuarto_numero not in seleccion:\n",
    "                d=(\"/\")\n",
    "                \n",
    "            #variable que junta el resultado y cambia el orden de las respuestas e imprime el resultado\n",
    "            self.resultado=a+b+c+d\n",
    "            print(''.join(random.sample(self.resultado,len(self.resultado))))\n",
    "            \n",
    "            self.oportunidades-=1\n",
    "            print(f'Te quedan {self.oportunidades} oportunidades todavia.')\n",
    "            \n",
    "            #Condiciones de victoria o derrota\n",
    "            if self.resultado==\"XXXX\":\n",
    "                print(\"HAS CONSEGUIDO GANAR!!\")\n",
    "                x=input(\"Quieres seguir jugando? Si/No\")\n",
    "                if x==\"Si\":\n",
    "                    self.opciones()\n",
    "                else:\n",
    "                    print(\"Hasta la proxima\")\n",
    "                    break\n",
    "            \n",
    "            elif self.oportunidades==0:\n",
    "                print(f\"{self.resultado}\\nHas sido derrotado!La respuesta correcta es: {seleccion}\")\n",
    "                x=input(\"Quieres seguir jugando? Si/No\").title()\n",
    "                if x==\"Si\":\n",
    "                    self.opciones()\n",
    "                else:\n",
    "                    print(\"Hasta la proxima\")\n",
    "                    break\n",
    "            \n",
    "        \n",
    "            \n",
    "        \n",
    "\n",
    "     \n",
    "    \n"
   ]
  },
  {
   "cell_type": "markdown",
   "id": "836f2c53",
   "metadata": {},
   "source": [
    "# Probamos el juego"
   ]
  },
  {
   "cell_type": "code",
   "execution_count": 15,
   "id": "8723f197",
   "metadata": {
    "ExecuteTime": {
     "end_time": "2021-10-23T07:46:52.728263Z",
     "start_time": "2021-10-23T07:46:30.137284Z"
    },
    "scrolled": false
   },
   "outputs": [
    {
     "name": "stdout",
     "output_type": "stream",
     "text": [
      "Introduce tu nombre para empezar a jugar: se\n",
      "Bienvenido se a MASTERMIND, tendras que elegir cuatro colores y colocarlos en la posicion correcta. Crees que serás capaz? El juego esta diseñado en modo DIFICIL... Te recomendamos antes de empezar leerte bien la seccion 'Dudas' Buena suerte!\n",
      "\n",
      "            ---------------------------------------------\n",
      "            Para empezar a jugar: Jugar\n",
      "            Si tienes dudas sobre como se juega: Dudas\n",
      "            Si quieres saber cuales son los colores: Colores\n",
      "            Si quieres salir: Salir\n",
      "            ----------------------------------------------\n",
      "Que quieres hacer? jugar\n",
      "Elige nivel entre 1 (facil),2(medio),3(dificil)3\n",
      "Juegas con los colores: ['Rojo', 'Azul', 'Amarillo', 'Marron', 'Verde', 'Celeste', 'Blanco', 'Negro']\n",
      "Introduce el numero de partidas que quieres jugar: (Lo establecido son 15) 1\n",
      "Introduce el primer color: a\n",
      "Introduce el segundo color: a\n",
      "Introduce el tercer color: a\n",
      "Introduce el cuarto color: a\n",
      "////\n",
      "Te quedan 0 oportunidades todavia.\n",
      "////\n",
      "Has sido derrotado!La respuesta correcta es: ['Azul', 'Verde', 'Negro', 'Verde']\n",
      "Quieres seguir jugando? Si/Nosi\n",
      "\n",
      "            ---------------------------------------------\n",
      "            Para empezar a jugar: Jugar\n",
      "            Si tienes dudas sobre como se juega: Dudas\n",
      "            Si quieres saber cuales son los colores: Colores\n",
      "            Si quieres salir: Salir\n",
      "            ----------------------------------------------\n",
      "Que quieres hacer? salir\n",
      "Hasta la proxima!\n"
     ]
    }
   ],
   "source": [
    "def main():\n",
    "    while True:\n",
    "        partida = Juego()\n",
    "        partida.opciones()\n",
    "        break\n",
    "            \n",
    "if __name__ == '__main__':\n",
    "    main()"
   ]
  },
  {
   "cell_type": "code",
   "execution_count": null,
   "id": "abb63c0e",
   "metadata": {},
   "outputs": [],
   "source": [
    "def seleccion_bolas(self):\n",
    "        #para la seleccion aleatoria de los colores y su posicion\n",
    "        self.colores=['Rojo', 'Azul', 'Amarillo', 'Marron', 'Verde', 'Celeste', 'Blanco', 'Negro']\n",
    "        #seleccion nivel\n",
    "        nivel=int(input(\"Elige nivel entre 1 (facil),2(medio),3(dificil)\"))\n",
    "        if nivel==1:\n",
    "            self.seleccion=random.choices(self.colores[0:4],k=4)\n",
    "        elif nivel==2:\n",
    "            self.seleccion=random.choices(self.colores[0:6],k=4)\n",
    "        elif nivel==3:\n",
    "            self.seleccion=random.choices(self.colores[0:8],k=4)\n",
    "        return self.seleccion"
   ]
  },
  {
   "cell_type": "code",
   "execution_count": 5,
   "id": "ff133a59",
   "metadata": {
    "ExecuteTime": {
     "end_time": "2021-10-23T07:31:02.646082Z",
     "start_time": "2021-10-23T07:31:02.637736Z"
    }
   },
   "outputs": [],
   "source": [
    "colores=['Rojo', 'Azul', 'Amarillo', 'Marron', 'Verde', 'Celeste', 'Blanco', 'Negro']"
   ]
  },
  {
   "cell_type": "code",
   "execution_count": 7,
   "id": "d6ee592d",
   "metadata": {
    "ExecuteTime": {
     "end_time": "2021-10-23T07:31:19.758217Z",
     "start_time": "2021-10-23T07:31:19.734869Z"
    }
   },
   "outputs": [
    {
     "data": {
      "text/plain": [
       "['Rojo', 'Azul', 'Amarillo', 'Marron']"
      ]
     },
     "execution_count": 7,
     "metadata": {},
     "output_type": "execute_result"
    }
   ],
   "source": [
    "colores[0:4]"
   ]
  },
  {
   "cell_type": "code",
   "execution_count": null,
   "id": "935895e2",
   "metadata": {},
   "outputs": [],
   "source": []
  }
 ],
 "metadata": {
  "kernelspec": {
   "display_name": "Python 3",
   "language": "python",
   "name": "python3"
  },
  "language_info": {
   "codemirror_mode": {
    "name": "ipython",
    "version": 3
   },
   "file_extension": ".py",
   "mimetype": "text/x-python",
   "name": "python",
   "nbconvert_exporter": "python",
   "pygments_lexer": "ipython3",
   "version": "3.8.8"
  },
  "toc": {
   "base_numbering": 1,
   "nav_menu": {},
   "number_sections": true,
   "sideBar": true,
   "skip_h1_title": false,
   "title_cell": "Table of Contents",
   "title_sidebar": "Contents",
   "toc_cell": false,
   "toc_position": {},
   "toc_section_display": true,
   "toc_window_display": false
  },
  "varInspector": {
   "cols": {
    "lenName": 16,
    "lenType": 16,
    "lenVar": 40
   },
   "kernels_config": {
    "python": {
     "delete_cmd_postfix": "",
     "delete_cmd_prefix": "del ",
     "library": "var_list.py",
     "varRefreshCmd": "print(var_dic_list())"
    },
    "r": {
     "delete_cmd_postfix": ") ",
     "delete_cmd_prefix": "rm(",
     "library": "var_list.r",
     "varRefreshCmd": "cat(var_dic_list()) "
    }
   },
   "types_to_exclude": [
    "module",
    "function",
    "builtin_function_or_method",
    "instance",
    "_Feature"
   ],
   "window_display": false
  }
 },
 "nbformat": 4,
 "nbformat_minor": 5
}
